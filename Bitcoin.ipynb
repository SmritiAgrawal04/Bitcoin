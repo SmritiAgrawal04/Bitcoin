{
 "cells": [
  {
   "cell_type": "code",
   "execution_count": 1,
   "metadata": {},
   "outputs": [],
   "source": [
    "import csv\n",
    "from heapq import heapify, heappush, heappop"
   ]
  },
  {
   "cell_type": "code",
   "execution_count": 2,
   "metadata": {},
   "outputs": [],
   "source": [
    "class MempoolTransaction():\n",
    "    \"\"\"Save each transaction as an object\"\"\"\n",
    "    def __init__(self, txid, fee, weight, parents):\n",
    "        self.txid = txid\n",
    "        self.fee = int(fee)\n",
    "        self.weight= int(weight)\n",
    "        if len(parents)==0:\n",
    "            self.parents =[]\n",
    "        else:\n",
    "            self.parents= parents.split('\\n')[0].split(';')"
   ]
  },
  {
   "cell_type": "code",
   "execution_count": 3,
   "metadata": {},
   "outputs": [],
   "source": [
    "def parse_mempool_csv():\n",
    "    \"\"\"Parse the CSV file and return a list of MempoolTransactions.\"\"\"\n",
    "    data= open('mempool.csv', 'r').readlines()[1:]\n",
    "    return([MempoolTransaction(*line.strip().split(',')) for line in data])"
   ]
  },
  {
   "cell_type": "code",
   "execution_count": 4,
   "metadata": {},
   "outputs": [],
   "source": [
    "class HeapSolution():\n",
    "    \n",
    "    def __init__(self):\n",
    "        self.transactions= parse_mempool_csv()    \n",
    "        self.heap= self.createHeap()\n",
    "        self.blockWeight =0\n",
    "        self.visited= set()\n",
    "        self.blockTransactions= []\n",
    "        self.suspendedTransactions= []\n",
    "        \n",
    "        self.get_appropriateTransactions()\n",
    "\n",
    "    def createHeap(self,):\n",
    "        heap = [] \n",
    "        heapify(heap) \n",
    "\n",
    "        for entry in self.transactions:\n",
    "            heappush(heap, (-1*entry.fee, entry.txid, entry.weight, entry.parents))\n",
    "\n",
    "        return heap\n",
    "    \n",
    "    def pull_suspendedTransactions(self,):\n",
    "        for entry in self.suspendedTransactions:\n",
    "            heappush(self.heap, (entry.fee, entry.txid, entry.weight, entry.parents))    \n",
    "    \n",
    "    def get_appropriateTransactions(self, ):\n",
    "        while self.heap and self.blockWeight <=400000:\n",
    "            entry= heappop(self.heap)\n",
    "            fee, txid, weight, parents= -1*entry[0], entry[1], entry[2], entry[3]\n",
    "            if len(parents) ==0:\n",
    "#                 print (\"No Parents\")\n",
    "                self.blockTransactions.append((fee, weight, txid))\n",
    "                self.visited.add(txid)\n",
    "                self.blockWeight +=weight\n",
    "                self.pull_suspendedTransactions()\n",
    "\n",
    "            else:\n",
    "                isSuspended= False\n",
    "                for parent in parents:\n",
    "                    if parent not in self.visited:\n",
    "#                         print (\"Parent unvisited\")\n",
    "                        self.suspendedTransactions.append(entry)\n",
    "                        isSuspended= True\n",
    "                        continue\n",
    "                if not isSuspended:\n",
    "#                     print (\"All parent visited\")\n",
    "                    self.blockTransactions.append((fee, weight, txid))\n",
    "                    self.visited.add(txid)\n",
    "                    self.blockWeight +=weight\n",
    "                    self.pull_suspendedTransactions()\n",
    "        \n",
    "        profit =0\n",
    "        for row in self.blockTransactions:\n",
    "            profit += row[0]\n",
    "            \n",
    "        print (profit)"
   ]
  },
  {
   "cell_type": "code",
   "execution_count": 5,
   "metadata": {},
   "outputs": [],
   "source": [
    "class KnapsackSolution():\n",
    "    def __init__(self):\n",
    "        self.transactions= parse_mempool_csv()    \n",
    "        profit= self.get_appropriateTransactions(40000, len(self.transactions))\n",
    "        print (profit)\n",
    "        \n",
    "    def get_appropriateTransactions(self, capacity, n):\n",
    "        \n",
    "        dp = [0 for i in range(capacity+1)]\n",
    " \n",
    "        for i in range(1, n+1):  \n",
    "            for w in range(capacity, 0, -1):  \n",
    "                if self.transactions[i-1].weight <= w:\n",
    "                    dp[w] = max(dp[w], dp[w-self.transactions[i-1].weight]+self.transactions[i-1].fee)\n",
    "\n",
    "        return dp[capacity]  "
   ]
  },
  {
   "cell_type": "code",
   "execution_count": 6,
   "metadata": {
    "scrolled": false
   },
   "outputs": [
    {
     "name": "stdout",
     "output_type": "stream",
     "text": [
      "1263020\n",
      "1417260\n"
     ]
    }
   ],
   "source": [
    "if __name__ == \"__main__\":\n",
    "    HeapSolution()\n",
    "    KnapsackSolution()"
   ]
  },
  {
   "cell_type": "code",
   "execution_count": null,
   "metadata": {},
   "outputs": [],
   "source": []
  }
 ],
 "metadata": {
  "kernelspec": {
   "display_name": "Python 3",
   "language": "python",
   "name": "python3"
  },
  "language_info": {
   "codemirror_mode": {
    "name": "ipython",
    "version": 3
   },
   "file_extension": ".py",
   "mimetype": "text/x-python",
   "name": "python",
   "nbconvert_exporter": "python",
   "pygments_lexer": "ipython3",
   "version": "3.8.5"
  }
 },
 "nbformat": 4,
 "nbformat_minor": 4
}
