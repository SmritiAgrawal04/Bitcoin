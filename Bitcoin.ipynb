{
 "cells": [
  {
   "cell_type": "code",
   "execution_count": 1,
   "metadata": {},
   "outputs": [],
   "source": [
    "import csv"
   ]
  },
  {
   "cell_type": "code",
   "execution_count": 2,
   "metadata": {},
   "outputs": [],
   "source": [
    "class MempoolTransaction():\n",
    "    \"\"\"Save each transaction as an object\"\"\"\n",
    "    def __init__(self, txid, fee, weight, parents):\n",
    "        self.txid = txid\n",
    "        self.fee = fee\n",
    "        self.weight= weight\n",
    "        self.parents= parents.split('\\n')[0].split(';')"
   ]
  },
  {
   "cell_type": "code",
   "execution_count": 3,
   "metadata": {},
   "outputs": [],
   "source": [
    "def parse_mempool_csv():\n",
    "    \"\"\"Parse the CSV file and return a list of MempoolTransactions.\"\"\"\n",
    "    with open('mempool.csv') as f:\n",
    "        return([MempoolTransaction(*line.strip().split(',')) for line in f.readlines()])"
   ]
  },
  {
   "cell_type": "code",
   "execution_count": 4,
   "metadata": {},
   "outputs": [],
   "source": [
    "if __name__ == \"__main__\":\n",
    "    data= parse_mempool_csv()"
   ]
  }
 ],
 "metadata": {
  "kernelspec": {
   "display_name": "Python 3",
   "language": "python",
   "name": "python3"
  },
  "language_info": {
   "codemirror_mode": {
    "name": "ipython",
    "version": 3
   },
   "file_extension": ".py",
   "mimetype": "text/x-python",
   "name": "python",
   "nbconvert_exporter": "python",
   "pygments_lexer": "ipython3",
   "version": "3.8.5"
  }
 },
 "nbformat": 4,
 "nbformat_minor": 4
}
