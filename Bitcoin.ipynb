{
 "cells": [
  {
   "cell_type": "code",
   "execution_count": 1,
   "metadata": {},
   "outputs": [],
   "source": [
    "import csv\n",
    "from heapq import heapify, heappush, heappop"
   ]
  },
  {
   "cell_type": "code",
   "execution_count": 2,
   "metadata": {},
   "outputs": [],
   "source": [
    "class MempoolTransaction():\n",
    "    \"\"\"Save each transaction as an object\"\"\"\n",
    "    def __init__(self, txid, fee, weight, parents):\n",
    "        self.txid = txid\n",
    "        self.fee = int(fee)\n",
    "        self.weight= int(weight)\n",
    "        if len(parents)==0:\n",
    "            self.parents =[]\n",
    "        else:\n",
    "            self.parents= parents.split('\\n')[0].split(';')"
   ]
  },
  {
   "cell_type": "code",
   "execution_count": 3,
   "metadata": {},
   "outputs": [],
   "source": [
    "def parse_mempool_csv():\n",
    "    \"\"\"Parse the CSV file and return a list of MempoolTransactions.\"\"\"\n",
    "    data= open('mempool.csv', 'r').readlines()[1:]\n",
    "    return([MempoolTransaction(*line.strip().split(',')) for line in data])\n",
    "\n",
    "\n",
    "def write_blockTransactions(filename, blockTransactions):\n",
    "    \"\"\"Write the eligible bock transactions to an output file\"\"\"\n",
    "    f = open(filename, \"a\")\n",
    "    for transaction in blockTransactions:\n",
    "        f.writelines(transaction)\n",
    "        f.writelines('\\n')\n",
    "    f.close()"
   ]
  },
  {
   "cell_type": "code",
   "execution_count": 4,
   "metadata": {},
   "outputs": [],
   "source": [
    "class HeapSolution():\n",
    "    \n",
    "    def __init__(self):\n",
    "        \"\"\"Initialize the variables and read all transactions\"\"\"\n",
    "        self.transactions= parse_mempool_csv()    \n",
    "        self.heap= self.createHeap()\n",
    "        self.blockWeight =0\n",
    "        self.visited= set()\n",
    "        self.blockTransactions= []\n",
    "        self.suspendedTransactions= []      \n",
    "\n",
    "    def createHeap(self,):\n",
    "        \"\"\"Create a max heap with all transactions sorted in descending order fee wise\"\"\"\n",
    "        heap = [] \n",
    "        heapify(heap) \n",
    "\n",
    "        for entry in self.transactions:\n",
    "            heappush(heap, (-1*entry.fee, entry.txid, entry.weight, entry.parents))\n",
    "\n",
    "        return heap\n",
    "    \n",
    "    def pull_suspendedTransactions(self,):\n",
    "        \"\"\"Pull the suspended transctions back and push them into heap\"\"\"\n",
    "        for entry in self.suspendedTransactions:\n",
    "            heappush(self.heap, (entry.fee, entry.txid, entry.weight, entry.parents))    \n",
    "    \n",
    "    def get_appropriateTransactions(self, ):\n",
    "        \"\"\"Retreive the eligible transactions\"\"\"\n",
    "        while self.heap and self.blockWeight <=400000:\n",
    "            entry= heappop(self.heap)\n",
    "            fee, txid, weight, parents= -1*entry[0], entry[1], entry[2], entry[3]\n",
    "            if len(parents) ==0:\n",
    "#                 print (\"No Parents\")\n",
    "                self.blockTransactions.append(txid)\n",
    "                self.visited.add(txid)\n",
    "                self.blockWeight +=weight\n",
    "                self.pull_suspendedTransactions()\n",
    "\n",
    "            else:\n",
    "                isSuspended= False\n",
    "                for parent in parents:\n",
    "                    if parent not in self.visited:\n",
    "#                         print (\"Parent unvisited\")\n",
    "                        self.suspendedTransactions.append(entry)\n",
    "                        isSuspended= True\n",
    "                        continue\n",
    "                if not isSuspended:\n",
    "#                     print (\"All parent visited\")\n",
    "                    self.blockTransactions.append(txid)\n",
    "                    self.visited.add(txid)\n",
    "                    self.blockWeight +=weight\n",
    "                    self.pull_suspendedTransactions()\n",
    "        \n",
    "        write_blockTransactions('block_MaxHeap.txt', self.blockTransactions)"
   ]
  },
  {
   "cell_type": "code",
   "execution_count": 5,
   "metadata": {},
   "outputs": [],
   "source": [
    "class DynamicSolution():\n",
    "    def __init__(self):\n",
    "        \"\"\"Initialize the variables and read all transactions\"\"\"\n",
    "        self.transactions= parse_mempool_csv()    \n",
    "        self.capacity= 40000\n",
    "        self.n= len(self.transactions)\n",
    "        self.blockTransactions= []\n",
    "        \n",
    "    def get_appropriateTransactions(self, ):     \n",
    "        \"\"\"Retreive the eligible transactions\"\"\"\n",
    "        K = [[0 for w in range(self.capacity + 1)]\n",
    "            for i in range(self.n + 1)]\n",
    "             \n",
    "        for i in range(self.n + 1):\n",
    "            for w in range(self.capacity + 1):\n",
    "                if i == 0 or w == 0:\n",
    "                    K[i][w] = 0\n",
    "                elif self.transactions[i - 1].weight <= w:\n",
    "                    K[i][w] = max(self.transactions[i - 1].fee + K[i - 1][w - self.transactions[i - 1].weight], K[i - 1][w])\n",
    "                else:\n",
    "                    K[i][w] = K[i - 1][w]\n",
    "        \n",
    "        \n",
    "        profit = K[self.n][self.capacity]\n",
    "        res =profit\n",
    "\n",
    "        w = self.capacity\n",
    "        for i in range(self.n, 0, -1):\n",
    "            if res <= 0:\n",
    "                break\n",
    "            if res == K[i - 1][w]:\n",
    "                continue\n",
    "            else:\n",
    "                self.blockTransactions.append(self.transactions[i-1].txid)\n",
    "                res = res - self.transactions[i - 1].fee\n",
    "                w = w - self.transactions[i - 1].weight\n",
    "                \n",
    "        write_blockTransactions('block_Dynamic.txt', self.blockTransactions)\n",
    "        \n",
    "        "
   ]
  },
  {
   "cell_type": "code",
   "execution_count": 6,
   "metadata": {
    "scrolled": false
   },
   "outputs": [],
   "source": [
    "if __name__ == \"__main__\":\n",
    "    hsObj= HeapSolution()\n",
    "    hsObj.get_appropriateTransactions()\n",
    "    dsObj= DynamicSolution()\n",
    "    dsObj.get_appropriateTransactions()"
   ]
  },
  {
   "cell_type": "code",
   "execution_count": null,
   "metadata": {},
   "outputs": [],
   "source": []
  }
 ],
 "metadata": {
  "kernelspec": {
   "display_name": "Python 3",
   "language": "python",
   "name": "python3"
  },
  "language_info": {
   "codemirror_mode": {
    "name": "ipython",
    "version": 3
   },
   "file_extension": ".py",
   "mimetype": "text/x-python",
   "name": "python",
   "nbconvert_exporter": "python",
   "pygments_lexer": "ipython3",
   "version": "3.8.5"
  }
 },
 "nbformat": 4,
 "nbformat_minor": 4
}
