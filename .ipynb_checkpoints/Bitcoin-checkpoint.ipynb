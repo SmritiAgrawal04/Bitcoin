{
 "cells": [
  {
   "cell_type": "code",
   "execution_count": 1,
   "metadata": {},
   "outputs": [],
   "source": [
    "import csv\n",
    "from heapq import heapify, heappush, heappop"
   ]
  },
  {
   "cell_type": "code",
   "execution_count": 2,
   "metadata": {},
   "outputs": [],
   "source": [
    "class MempoolTransaction():\n",
    "    \"\"\"Save each transaction as an object\"\"\"\n",
    "    def __init__(self, txid, fee, weight, parents):\n",
    "        self.txid = txid\n",
    "        self.fee = int(fee)\n",
    "        self.weight= int(weight)\n",
    "        if len(parents)==0:\n",
    "            self.parents =[]\n",
    "        else:\n",
    "            self.parents= parents.split('\\n')[0].split(';')\n",
    "            \n",
    "#         print (self.parents)"
   ]
  },
  {
   "cell_type": "code",
   "execution_count": 3,
   "metadata": {},
   "outputs": [],
   "source": [
    "def parse_mempool_csv():\n",
    "    \"\"\"Parse the CSV file and return a list of MempoolTransactions.\"\"\"\n",
    "    data= open('mempool.csv', 'r').readlines()[1:]\n",
    "    return([MempoolTransaction(*line.strip().split(',')) for line in data])"
   ]
  },
  {
   "cell_type": "code",
   "execution_count": 4,
   "metadata": {},
   "outputs": [],
   "source": [
    "def createHeap(transactions):\n",
    "    heap = [] \n",
    "    heapify(heap) \n",
    "    \n",
    "    for entry in transactions:\n",
    "        heappush(heap, (-1*entry.fee, entry.txid, entry.weight, entry.parents))\n",
    "        \n",
    "    return heap"
   ]
  },
  {
   "cell_type": "code",
   "execution_count": 5,
   "metadata": {},
   "outputs": [],
   "source": [
    "def pull_suspendedTransactions(heap, suspendedTransactions):\n",
    "    for entry in suspendedTransactions:\n",
    "        heappush(heap, (entry.fee, entry.txid, entry.weight, entry.parents))\n",
    "    return heap, suspendedTransactions"
   ]
  },
  {
   "cell_type": "code",
   "execution_count": 6,
   "metadata": {
    "scrolled": false
   },
   "outputs": [
    {
     "name": "stdout",
     "output_type": "stream",
     "text": [
      "Weight Reached\n",
      "(201700, 1348, '59f0495cf66d1864359dda816eb7189b9d9a3a9cd9dc50a3707776b41a6c815b')\n",
      "(194166, 3852, '3bfc4c22fc7aaded4b02c6a6d67b4a7bad297377e46e4c300208f3bc3d65aae1')\n",
      "(107775, 1660, '87784075804f10dad1f815de867dde2875e73a13da798c317fcddd75e03efc95')\n",
      "(104400, 2084, '0c8ebf9c75f63b7e5ff176e2937f24c694aa6b3bde0e59b5647983bbb7dd38d6')\n",
      "(100000, 1148, 'c3fef085fca34891e6456489d840ab68139b24857eb1f925b943066ebb988732')\n",
      "(90000, 896, '826c80c43044cc00bebdf021a42dca6946591f02710e4e6da58c094be8e62d00')\n",
      "(74544, 295164, '2a75876d05905369cda2997032a66e0a0f12253aa5736a23c005d26b22983c1a')\n",
      "(59326, 1364, '6a709ddadfcf13b2e302cf0f75163538b0273923cc55fccc158f7466abebc1a9')\n",
      "(57000, 756, 'de669dad7f8d8b37a789cb8f86ddd62b93b7b8323d90ff29fa61ca1f41f8c73f')\n",
      "(54675, 904, 'b8894fbe99628c253fa93cf178679727e117d04fea5e5079de002548a0dd6511')\n",
      "(50000, 4436, '8de07b4f7af6f61dfb0ac878ba45bd7b8b7184a1376e5286c90cd983679447f5')\n",
      "(45075, 2400, 'fac0417aafa46ea002ed3e04fc38087b45aca6a15a47bd4e5026e1e6cefa7967')\n",
      "(44451, 29712, 'f3c2f6cb4573cf137178f355af9301f3c0dbebf23c172804a894a7e4f899c110')\n",
      "(40200, 2668, '7f264c468f624b62071dbcb531de5af722b327d5b098f426314622340cf17512')\n",
      "(39708, 158272, '7a7fc507db228511f2bf1d36b3cbc8ec2cc93d2ea86e8afed5f98a4d83602c5d')\n"
     ]
    }
   ],
   "source": [
    "if __name__ == \"__main__\":\n",
    "    transactions= parse_mempool_csv()\n",
    "    \n",
    "    heap= createHeap(transactions)\n",
    "    blockWeight =0\n",
    "    visited= set()\n",
    "    blockTransactions= []\n",
    "    suspendedTransactions= []\n",
    "    \n",
    "    while heap and blockWeight <=400000:\n",
    "        entry= heappop(heap)\n",
    "#         print (entry)\n",
    "        fee, txid, weight, parents= -1*entry[0], entry[1], entry[2], entry[3]\n",
    "        if len(parents) ==0:\n",
    "#             print (\"No Parents\")\n",
    "            blockTransactions.append((fee, weight, txid))\n",
    "            visited.add(txid)\n",
    "            blockWeight +=weight\n",
    "            heap, suspendedTransactions= pull_suspendedTransactions(heap, suspendedTransactions)\n",
    "        \n",
    "        else:\n",
    "            isSuspended= False\n",
    "            for parent in parents:\n",
    "                if parent not in visited:\n",
    "#                     print (\"Parent unvisited\")\n",
    "                    suspendedTransactions.append(entry)\n",
    "                    isSuspended= True\n",
    "                    continue\n",
    "            if not isSuspended:\n",
    "#                 print (\"All parent visited\")\n",
    "                blockTransactions.append((fee, weight, txid))\n",
    "                visited.add(txid)\n",
    "                blockWeight +=weight\n",
    "                heap, suspendedTransactions= pull_suspendedTransactions(heap, suspendedTransactions)\n",
    "    if heap:\n",
    "        print (\"Weight Reached\")\n",
    "    else:\n",
    "        print (\"Heap Empty\")\n",
    "    for row in blockTransactions:\n",
    "        print (row)"
   ]
  }
 ],
 "metadata": {
  "kernelspec": {
   "display_name": "Python 3",
   "language": "python",
   "name": "python3"
  },
  "language_info": {
   "codemirror_mode": {
    "name": "ipython",
    "version": 3
   },
   "file_extension": ".py",
   "mimetype": "text/x-python",
   "name": "python",
   "nbconvert_exporter": "python",
   "pygments_lexer": "ipython3",
   "version": "3.8.5"
  }
 },
 "nbformat": 4,
 "nbformat_minor": 4
}
